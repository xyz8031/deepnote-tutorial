{
 "cells": [
  {
   "cell_type": "markdown",
   "source": "# Introduction",
   "metadata": {
    "tags": [],
    "cell_id": "00000-5543820f-a199-49f0-8544-0cdcace2b980",
    "deepnote_cell_type": "markdown"
   }
  },
  {
   "cell_type": "markdown",
   "source": "The data comes from TidyTuesday's GitHub Repo.\nIt is available via the [link](https://github.com/rfordatascience/tidytuesday/blob/master/data/2021/2021-01-05/readme.md)",
   "metadata": {
    "tags": [],
    "cell_id": "00001-b7d1f088-5029-4dd2-8a84-861f05d12fe6",
    "deepnote_cell_type": "markdown"
   }
  },
  {
   "cell_type": "markdown",
   "source": "# Overview",
   "metadata": {
    "tags": [],
    "is_collapsed": false,
    "cell_id": "00001-a379c1d0-296f-4b5c-a630-dba6d8280249",
    "deepnote_cell_type": "text-cell-h1"
   }
  },
  {
   "cell_type": "code",
   "source": "import pandas as pd\nimport numpy as np\nimport seaborn as sns",
   "metadata": {
    "tags": [],
    "cell_id": "00001-56c1358f-5970-4cdf-b5ab-c7f31c9698e4",
    "deepnote_to_be_reexecuted": false,
    "source_hash": "226eac3",
    "execution_start": 1632714310501,
    "execution_millis": 738,
    "deepnote_cell_type": "code"
   },
   "outputs": [],
   "execution_count": 1
  },
  {
   "cell_type": "code",
   "source": "url = \"https://raw.githubusercontent.com/rfordatascience/tidytuesday/master/data/2021/2021-01-05/transit_cost.csv\"\n\ndata = pd.read_csv(url).drop(['source2', 'reference'], axis = 1)\ndata.head()",
   "metadata": {
    "tags": [],
    "cell_id": "00002-e2e44c9b-b1c0-4056-bd9c-bf3fd6bb5233",
    "deepnote_to_be_reexecuted": false,
    "source_hash": "4d99279b",
    "execution_start": 1632714311245,
    "execution_millis": 193,
    "deepnote_cell_type": "code"
   },
   "outputs": [
    {
     "output_type": "execute_result",
     "execution_count": 2,
     "data": {
      "application/vnd.deepnote.dataframe.v2+json": {
       "row_count": 5,
       "column_count": 18,
       "columns": [
        {
         "name": "e",
         "dtype": "float64",
         "stats": {
          "unique_count": 5,
          "nan_count": 0,
          "min": "7136.0",
          "max": "7144.0",
          "histogram": [
           {
            "bin_start": 7136,
            "bin_end": 7136.8,
            "count": 1
           },
           {
            "bin_start": 7136.8,
            "bin_end": 7137.6,
            "count": 1
           },
           {
            "bin_start": 7137.6,
            "bin_end": 7138.4,
            "count": 1
           },
           {
            "bin_start": 7138.4,
            "bin_end": 7139.2,
            "count": 1
           },
           {
            "bin_start": 7139.2,
            "bin_end": 7140,
            "count": 0
           },
           {
            "bin_start": 7140,
            "bin_end": 7140.8,
            "count": 0
           },
           {
            "bin_start": 7140.8,
            "bin_end": 7141.6,
            "count": 0
           },
           {
            "bin_start": 7141.6,
            "bin_end": 7142.4,
            "count": 0
           },
           {
            "bin_start": 7142.4,
            "bin_end": 7143.2,
            "count": 0
           },
           {
            "bin_start": 7143.2,
            "bin_end": 7144,
            "count": 1
           }
          ]
         }
        },
        {
         "name": "country",
         "dtype": "object",
         "stats": {
          "unique_count": 1,
          "nan_count": 0,
          "categories": [
           {
            "name": "CA",
            "count": 5
           }
          ]
         }
        },
        {
         "name": "city",
         "dtype": "object",
         "stats": {
          "unique_count": 2,
          "nan_count": 0,
          "categories": [
           {
            "name": "Toronto",
            "count": 4
           },
           {
            "name": "Vancouver",
            "count": 1
           }
          ]
         }
        },
        {
         "name": "line",
         "dtype": "object",
         "stats": {
          "unique_count": 5,
          "nan_count": 0,
          "categories": [
           {
            "name": "Broadway",
            "count": 1
           },
           {
            "name": "Vaughan",
            "count": 1
           },
           {
            "name": "3 others",
            "count": 3
           }
          ]
         }
        },
        {
         "name": "start_year",
         "dtype": "object",
         "stats": {
          "unique_count": 2,
          "nan_count": 0,
          "categories": [
           {
            "name": "2020",
            "count": 4
           },
           {
            "name": "2009",
            "count": 1
           }
          ]
         }
        },
        {
         "name": "end_year",
         "dtype": "object",
         "stats": {
          "unique_count": 3,
          "nan_count": 0,
          "categories": [
           {
            "name": "2030",
            "count": 3
           },
           {
            "name": "2025",
            "count": 1
           },
           {
            "name": "2017",
            "count": 1
           }
          ]
         }
        },
        {
         "name": "rr",
         "dtype": "float64",
         "stats": {
          "unique_count": 1,
          "nan_count": 0,
          "min": "0.0",
          "max": "0.0",
          "histogram": [
           {
            "bin_start": -0.5,
            "bin_end": -0.4,
            "count": 0
           },
           {
            "bin_start": -0.4,
            "bin_end": -0.3,
            "count": 0
           },
           {
            "bin_start": -0.3,
            "bin_end": -0.19999999999999996,
            "count": 0
           },
           {
            "bin_start": -0.19999999999999996,
            "bin_end": -0.09999999999999998,
            "count": 0
           },
           {
            "bin_start": -0.09999999999999998,
            "bin_end": 0,
            "count": 0
           },
           {
            "bin_start": 0,
            "bin_end": 0.10000000000000009,
            "count": 5
           },
           {
            "bin_start": 0.10000000000000009,
            "bin_end": 0.20000000000000007,
            "count": 0
           },
           {
            "bin_start": 0.20000000000000007,
            "bin_end": 0.30000000000000004,
            "count": 0
           },
           {
            "bin_start": 0.30000000000000004,
            "bin_end": 0.4,
            "count": 0
           },
           {
            "bin_start": 0.4,
            "bin_end": 0.5,
            "count": 0
           }
          ]
         }
        },
        {
         "name": "length",
         "dtype": "float64",
         "stats": {
          "unique_count": 5,
          "nan_count": 0,
          "min": "5.7",
          "max": "15.5",
          "histogram": [
           {
            "bin_start": 5.7,
            "bin_end": 6.680000000000001,
            "count": 1
           },
           {
            "bin_start": 6.680000000000001,
            "bin_end": 7.66,
            "count": 1
           },
           {
            "bin_start": 7.66,
            "bin_end": 8.64,
            "count": 2
           },
           {
            "bin_start": 8.64,
            "bin_end": 9.620000000000001,
            "count": 0
           },
           {
            "bin_start": 9.620000000000001,
            "bin_end": 10.600000000000001,
            "count": 0
           },
           {
            "bin_start": 10.600000000000001,
            "bin_end": 11.580000000000002,
            "count": 0
           },
           {
            "bin_start": 11.580000000000002,
            "bin_end": 12.56,
            "count": 0
           },
           {
            "bin_start": 12.56,
            "bin_end": 13.540000000000001,
            "count": 0
           },
           {
            "bin_start": 13.540000000000001,
            "bin_end": 14.52,
            "count": 0
           },
           {
            "bin_start": 14.52,
            "bin_end": 15.5,
            "count": 1
           }
          ]
         }
        },
        {
         "name": "tunnel_per",
         "dtype": "object",
         "stats": {
          "unique_count": 3,
          "nan_count": 0,
          "categories": [
           {
            "name": "100.00%",
            "count": 3
           },
           {
            "name": "87.72%",
            "count": 1
           },
           {
            "name": "57.00%",
            "count": 1
           }
          ]
         }
        },
        {
         "name": "tunnel",
         "dtype": "float64",
         "stats": {
          "unique_count": 5,
          "nan_count": 0,
          "min": "5.0",
          "max": "8.8",
          "histogram": [
           {
            "bin_start": 5,
            "bin_end": 5.38,
            "count": 1
           },
           {
            "bin_start": 5.38,
            "bin_end": 5.76,
            "count": 0
           },
           {
            "bin_start": 5.76,
            "bin_end": 6.140000000000001,
            "count": 0
           },
           {
            "bin_start": 6.140000000000001,
            "bin_end": 6.5200000000000005,
            "count": 0
           },
           {
            "bin_start": 6.5200000000000005,
            "bin_end": 6.9,
            "count": 0
           },
           {
            "bin_start": 6.9,
            "bin_end": 7.28,
            "count": 0
           },
           {
            "bin_start": 7.28,
            "bin_end": 7.66,
            "count": 1
           },
           {
            "bin_start": 7.66,
            "bin_end": 8.040000000000001,
            "count": 1
           },
           {
            "bin_start": 8.040000000000001,
            "bin_end": 8.42,
            "count": 0
           },
           {
            "bin_start": 8.42,
            "bin_end": 8.8,
            "count": 2
           }
          ]
         }
        },
        {
         "name": "stations",
         "dtype": "float64",
         "stats": {
          "unique_count": 3,
          "nan_count": 0,
          "min": "3.0",
          "max": "15.0",
          "histogram": [
           {
            "bin_start": 3,
            "bin_end": 4.2,
            "count": 1
           },
           {
            "bin_start": 4.2,
            "bin_end": 5.4,
            "count": 0
           },
           {
            "bin_start": 5.4,
            "bin_end": 6.6,
            "count": 3
           },
           {
            "bin_start": 6.6,
            "bin_end": 7.8,
            "count": 0
           },
           {
            "bin_start": 7.8,
            "bin_end": 9,
            "count": 0
           },
           {
            "bin_start": 9,
            "bin_end": 10.2,
            "count": 0
           },
           {
            "bin_start": 10.2,
            "bin_end": 11.4,
            "count": 0
           },
           {
            "bin_start": 11.4,
            "bin_end": 12.6,
            "count": 0
           },
           {
            "bin_start": 12.6,
            "bin_end": 13.799999999999999,
            "count": 0
           },
           {
            "bin_start": 13.799999999999999,
            "bin_end": 15,
            "count": 1
           }
          ]
         }
        },
        {
         "name": "source1",
         "dtype": "object",
         "stats": {
          "unique_count": 3,
          "nan_count": 0,
          "categories": [
           {
            "name": "Plan",
            "count": 3
           },
           {
            "name": "Media",
            "count": 1
           },
           {
            "name": "Wiki",
            "count": 1
           }
          ]
         }
        },
        {
         "name": "cost",
         "dtype": "float64",
         "stats": {
          "unique_count": 5,
          "nan_count": 0,
          "min": "2830.0",
          "max": "8573.0",
          "histogram": [
           {
            "bin_start": 2830,
            "bin_end": 3404.3,
            "count": 2
           },
           {
            "bin_start": 3404.3,
            "bin_end": 3978.6,
            "count": 0
           },
           {
            "bin_start": 3978.6,
            "bin_end": 4552.9,
            "count": 0
           },
           {
            "bin_start": 4552.9,
            "bin_end": 5127.2,
            "count": 0
           },
           {
            "bin_start": 5127.2,
            "bin_end": 5701.5,
            "count": 2
           },
           {
            "bin_start": 5701.5,
            "bin_end": 6275.799999999999,
            "count": 0
           },
           {
            "bin_start": 6275.799999999999,
            "bin_end": 6850.099999999999,
            "count": 0
           },
           {
            "bin_start": 6850.099999999999,
            "bin_end": 7424.4,
            "count": 0
           },
           {
            "bin_start": 7424.4,
            "bin_end": 7998.7,
            "count": 0
           },
           {
            "bin_start": 7998.7,
            "bin_end": 8573,
            "count": 1
           }
          ]
         }
        },
        {
         "name": "currency",
         "dtype": "object",
         "stats": {
          "unique_count": 1,
          "nan_count": 0,
          "categories": [
           {
            "name": "CAD",
            "count": 5
           }
          ]
         }
        },
        {
         "name": "year",
         "dtype": "float64",
         "stats": {
          "unique_count": 4,
          "nan_count": 0,
          "min": "2013.0",
          "max": "2020.0",
          "histogram": [
           {
            "bin_start": 2013,
            "bin_end": 2013.7,
            "count": 1
           },
           {
            "bin_start": 2013.7,
            "bin_end": 2014.4,
            "count": 0
           },
           {
            "bin_start": 2014.4,
            "bin_end": 2015.1,
            "count": 0
           },
           {
            "bin_start": 2015.1,
            "bin_end": 2015.8,
            "count": 0
           },
           {
            "bin_start": 2015.8,
            "bin_end": 2016.5,
            "count": 0
           },
           {
            "bin_start": 2016.5,
            "bin_end": 2017.2,
            "count": 0
           },
           {
            "bin_start": 2017.2,
            "bin_end": 2017.9,
            "count": 0
           },
           {
            "bin_start": 2017.9,
            "bin_end": 2018.6,
            "count": 2
           },
           {
            "bin_start": 2018.6,
            "bin_end": 2019.3,
            "count": 1
           },
           {
            "bin_start": 2019.3,
            "bin_end": 2020,
            "count": 1
           }
          ]
         }
        },
        {
         "name": "ppp_rate",
         "dtype": "float64",
         "stats": {
          "unique_count": 2,
          "nan_count": 0,
          "min": "0.81",
          "max": "0.84",
          "histogram": [
           {
            "bin_start": 0.81,
            "bin_end": 0.8130000000000001,
            "count": 1
           },
           {
            "bin_start": 0.8130000000000001,
            "bin_end": 0.8160000000000001,
            "count": 0
           },
           {
            "bin_start": 0.8160000000000001,
            "bin_end": 0.8190000000000001,
            "count": 0
           },
           {
            "bin_start": 0.8190000000000001,
            "bin_end": 0.8220000000000001,
            "count": 0
           },
           {
            "bin_start": 0.8220000000000001,
            "bin_end": 0.825,
            "count": 0
           },
           {
            "bin_start": 0.825,
            "bin_end": 0.828,
            "count": 0
           },
           {
            "bin_start": 0.828,
            "bin_end": 0.831,
            "count": 0
           },
           {
            "bin_start": 0.831,
            "bin_end": 0.834,
            "count": 0
           },
           {
            "bin_start": 0.834,
            "bin_end": 0.837,
            "count": 0
           },
           {
            "bin_start": 0.837,
            "bin_end": 0.84,
            "count": 4
           }
          ]
         }
        },
        {
         "name": "real_cost",
         "dtype": "object",
         "stats": {
          "unique_count": 5,
          "nan_count": 0,
          "categories": [
           {
            "name": "2377.2",
            "count": 1
           },
           {
            "name": "2592",
            "count": 1
           },
           {
            "name": "3 others",
            "count": 3
           }
          ]
         }
        },
        {
         "name": "cost_km_millions",
         "dtype": "float64",
         "stats": {
          "unique_count": 5,
          "nan_count": 0,
          "min": "301.3953488",
          "max": "635.6756757",
          "histogram": [
           {
            "bin_start": 301.3953488,
            "bin_end": 334.82338149000003,
            "count": 1
           },
           {
            "bin_start": 334.82338149000003,
            "bin_end": 368.25141418000004,
            "count": 0
           },
           {
            "bin_start": 368.25141418000004,
            "bin_end": 401.67944687,
            "count": 0
           },
           {
            "bin_start": 401.67944687,
            "bin_end": 435.10747956,
            "count": 1
           },
           {
            "bin_start": 435.10747956,
            "bin_end": 468.53551225,
            "count": 1
           },
           {
            "bin_start": 468.53551225,
            "bin_end": 501.96354494,
            "count": 0
           },
           {
            "bin_start": 501.96354494,
            "bin_end": 535.39157763,
            "count": 0
           },
           {
            "bin_start": 535.39157763,
            "bin_end": 568.81961032,
            "count": 0
           },
           {
            "bin_start": 568.81961032,
            "bin_end": 602.24764301,
            "count": 1
           },
           {
            "bin_start": 602.24764301,
            "bin_end": 635.6756757,
            "count": 1
           }
          ]
         }
        },
        {
         "name": "_deepnote_index_column",
         "dtype": "int64"
        }
       ],
       "rows_top": [
        {
         "e": 7136,
         "country": "CA",
         "city": "Vancouver",
         "line": "Broadway",
         "start_year": "2020",
         "end_year": "2025",
         "rr": 0,
         "length": 5.7,
         "tunnel_per": "87.72%",
         "tunnel": 5,
         "stations": 6,
         "source1": "Plan",
         "cost": 2830,
         "currency": "CAD",
         "year": 2018,
         "ppp_rate": 0.84,
         "real_cost": "2377.2",
         "cost_km_millions": 417.0526316,
         "_deepnote_index_column": 0
        },
        {
         "e": 7137,
         "country": "CA",
         "city": "Toronto",
         "line": "Vaughan",
         "start_year": "2009",
         "end_year": "2017",
         "rr": 0,
         "length": 8.6,
         "tunnel_per": "100.00%",
         "tunnel": 8.6,
         "stations": 6,
         "source1": "Media",
         "cost": 3200,
         "currency": "CAD",
         "year": 2013,
         "ppp_rate": 0.81,
         "real_cost": "2592",
         "cost_km_millions": 301.3953488,
         "_deepnote_index_column": 1
        },
        {
         "e": 7138,
         "country": "CA",
         "city": "Toronto",
         "line": "Scarborough",
         "start_year": "2020",
         "end_year": "2030",
         "rr": 0,
         "length": 7.8,
         "tunnel_per": "100.00%",
         "tunnel": 7.8,
         "stations": 3,
         "source1": "Wiki",
         "cost": 5500,
         "currency": "CAD",
         "year": 2018,
         "ppp_rate": 0.84,
         "real_cost": "4620",
         "cost_km_millions": 592.3076923,
         "_deepnote_index_column": 2
        },
        {
         "e": 7139,
         "country": "CA",
         "city": "Toronto",
         "line": "Ontario",
         "start_year": "2020",
         "end_year": "2030",
         "rr": 0,
         "length": 15.5,
         "tunnel_per": "57.00%",
         "tunnel": 8.8,
         "stations": 15,
         "source1": "Plan",
         "cost": 8573,
         "currency": "CAD",
         "year": 2019,
         "ppp_rate": 0.84,
         "real_cost": "7201.32",
         "cost_km_millions": 464.6012903,
         "_deepnote_index_column": 3
        },
        {
         "e": 7144,
         "country": "CA",
         "city": "Toronto",
         "line": "Yonge to Richmond Hill",
         "start_year": "2020",
         "end_year": "2030",
         "rr": 0,
         "length": 7.4,
         "tunnel_per": "100.00%",
         "tunnel": 7.4,
         "stations": 6,
         "source1": "Plan",
         "cost": 5600,
         "currency": "CAD",
         "year": 2020,
         "ppp_rate": 0.84,
         "real_cost": "4704",
         "cost_km_millions": 635.6756757,
         "_deepnote_index_column": 4
        }
       ],
       "rows_bottom": null
      },
      "text/plain": "        e country       city                    line start_year end_year   rr  \\\n0  7136.0      CA  Vancouver                Broadway       2020     2025  0.0   \n1  7137.0      CA    Toronto                 Vaughan       2009     2017  0.0   \n2  7138.0      CA    Toronto             Scarborough       2020     2030  0.0   \n3  7139.0      CA    Toronto                 Ontario       2020     2030  0.0   \n4  7144.0      CA    Toronto  Yonge to Richmond Hill       2020     2030  0.0   \n\n   length tunnel_per  tunnel  stations source1    cost currency    year  \\\n0     5.7     87.72%     5.0       6.0    Plan  2830.0      CAD  2018.0   \n1     8.6    100.00%     8.6       6.0   Media  3200.0      CAD  2013.0   \n2     7.8    100.00%     7.8       3.0    Wiki  5500.0      CAD  2018.0   \n3    15.5     57.00%     8.8      15.0    Plan  8573.0      CAD  2019.0   \n4     7.4    100.00%     7.4       6.0    Plan  5600.0      CAD  2020.0   \n\n   ppp_rate real_cost  cost_km_millions  \n0      0.84    2377.2        417.052632  \n1      0.81      2592        301.395349  \n2      0.84      4620        592.307692  \n3      0.84   7201.32        464.601290  \n4      0.84      4704        635.675676  ",
      "text/html": "<div>\n<style scoped>\n    .dataframe tbody tr th:only-of-type {\n        vertical-align: middle;\n    }\n\n    .dataframe tbody tr th {\n        vertical-align: top;\n    }\n\n    .dataframe thead th {\n        text-align: right;\n    }\n</style>\n<table border=\"1\" class=\"dataframe\">\n  <thead>\n    <tr style=\"text-align: right;\">\n      <th></th>\n      <th>e</th>\n      <th>country</th>\n      <th>city</th>\n      <th>line</th>\n      <th>start_year</th>\n      <th>end_year</th>\n      <th>rr</th>\n      <th>length</th>\n      <th>tunnel_per</th>\n      <th>tunnel</th>\n      <th>stations</th>\n      <th>source1</th>\n      <th>cost</th>\n      <th>currency</th>\n      <th>year</th>\n      <th>ppp_rate</th>\n      <th>real_cost</th>\n      <th>cost_km_millions</th>\n    </tr>\n  </thead>\n  <tbody>\n    <tr>\n      <th>0</th>\n      <td>7136.0</td>\n      <td>CA</td>\n      <td>Vancouver</td>\n      <td>Broadway</td>\n      <td>2020</td>\n      <td>2025</td>\n      <td>0.0</td>\n      <td>5.7</td>\n      <td>87.72%</td>\n      <td>5.0</td>\n      <td>6.0</td>\n      <td>Plan</td>\n      <td>2830.0</td>\n      <td>CAD</td>\n      <td>2018.0</td>\n      <td>0.84</td>\n      <td>2377.2</td>\n      <td>417.052632</td>\n    </tr>\n    <tr>\n      <th>1</th>\n      <td>7137.0</td>\n      <td>CA</td>\n      <td>Toronto</td>\n      <td>Vaughan</td>\n      <td>2009</td>\n      <td>2017</td>\n      <td>0.0</td>\n      <td>8.6</td>\n      <td>100.00%</td>\n      <td>8.6</td>\n      <td>6.0</td>\n      <td>Media</td>\n      <td>3200.0</td>\n      <td>CAD</td>\n      <td>2013.0</td>\n      <td>0.81</td>\n      <td>2592</td>\n      <td>301.395349</td>\n    </tr>\n    <tr>\n      <th>2</th>\n      <td>7138.0</td>\n      <td>CA</td>\n      <td>Toronto</td>\n      <td>Scarborough</td>\n      <td>2020</td>\n      <td>2030</td>\n      <td>0.0</td>\n      <td>7.8</td>\n      <td>100.00%</td>\n      <td>7.8</td>\n      <td>3.0</td>\n      <td>Wiki</td>\n      <td>5500.0</td>\n      <td>CAD</td>\n      <td>2018.0</td>\n      <td>0.84</td>\n      <td>4620</td>\n      <td>592.307692</td>\n    </tr>\n    <tr>\n      <th>3</th>\n      <td>7139.0</td>\n      <td>CA</td>\n      <td>Toronto</td>\n      <td>Ontario</td>\n      <td>2020</td>\n      <td>2030</td>\n      <td>0.0</td>\n      <td>15.5</td>\n      <td>57.00%</td>\n      <td>8.8</td>\n      <td>15.0</td>\n      <td>Plan</td>\n      <td>8573.0</td>\n      <td>CAD</td>\n      <td>2019.0</td>\n      <td>0.84</td>\n      <td>7201.32</td>\n      <td>464.601290</td>\n    </tr>\n    <tr>\n      <th>4</th>\n      <td>7144.0</td>\n      <td>CA</td>\n      <td>Toronto</td>\n      <td>Yonge to Richmond Hill</td>\n      <td>2020</td>\n      <td>2030</td>\n      <td>0.0</td>\n      <td>7.4</td>\n      <td>100.00%</td>\n      <td>7.4</td>\n      <td>6.0</td>\n      <td>Plan</td>\n      <td>5600.0</td>\n      <td>CAD</td>\n      <td>2020.0</td>\n      <td>0.84</td>\n      <td>4704</td>\n      <td>635.675676</td>\n    </tr>\n  </tbody>\n</table>\n</div>"
     },
     "metadata": {}
    }
   ],
   "execution_count": 2
  },
  {
   "cell_type": "markdown",
   "source": "# Cleaning",
   "metadata": {
    "tags": [],
    "is_collapsed": false,
    "cell_id": "00003-bb45a2de-405d-4aba-859c-8a4f2188b15d",
    "deepnote_cell_type": "text-cell-h1"
   }
  },
  {
   "cell_type": "code",
   "source": "data.columns",
   "metadata": {
    "tags": [],
    "cell_id": "00004-511ab11f-867f-4cf2-8702-6c6b7826fa69",
    "deepnote_to_be_reexecuted": false,
    "source_hash": "c8a8c27a",
    "execution_start": 1632714311436,
    "execution_millis": 11,
    "deepnote_cell_type": "code"
   },
   "outputs": [
    {
     "output_type": "execute_result",
     "execution_count": 3,
     "data": {
      "text/plain": "Index(['e', 'country', 'city', 'line', 'start_year', 'end_year', 'rr',\n       'length', 'tunnel_per', 'tunnel', 'stations', 'source1', 'cost',\n       'currency', 'year', 'ppp_rate', 'real_cost', 'cost_km_millions'],\n      dtype='object')"
     },
     "metadata": {}
    }
   ],
   "execution_count": 3
  },
  {
   "cell_type": "code",
   "source": "data = data[['country', 'city', 'line', 'start_year', 'end_year', 'length', 'tunnel_per', 'tunnel', 'stations', 'cost']]\ndata.head()",
   "metadata": {
    "tags": [],
    "cell_id": "00004-4d8019a6-af3c-4f25-afd5-deb8986487c8",
    "deepnote_to_be_reexecuted": false,
    "source_hash": "5fdf5967",
    "execution_start": 1632714311498,
    "execution_millis": 18,
    "deepnote_cell_type": "code"
   },
   "outputs": [
    {
     "output_type": "execute_result",
     "execution_count": 4,
     "data": {
      "application/vnd.deepnote.dataframe.v2+json": {
       "row_count": 5,
       "column_count": 10,
       "columns": [
        {
         "name": "country",
         "dtype": "object",
         "stats": {
          "unique_count": 1,
          "nan_count": 0,
          "categories": [
           {
            "name": "CA",
            "count": 5
           }
          ]
         }
        },
        {
         "name": "city",
         "dtype": "object",
         "stats": {
          "unique_count": 2,
          "nan_count": 0,
          "categories": [
           {
            "name": "Toronto",
            "count": 4
           },
           {
            "name": "Vancouver",
            "count": 1
           }
          ]
         }
        },
        {
         "name": "line",
         "dtype": "object",
         "stats": {
          "unique_count": 5,
          "nan_count": 0,
          "categories": [
           {
            "name": "Broadway",
            "count": 1
           },
           {
            "name": "Vaughan",
            "count": 1
           },
           {
            "name": "3 others",
            "count": 3
           }
          ]
         }
        },
        {
         "name": "start_year",
         "dtype": "object",
         "stats": {
          "unique_count": 2,
          "nan_count": 0,
          "categories": [
           {
            "name": "2020",
            "count": 4
           },
           {
            "name": "2009",
            "count": 1
           }
          ]
         }
        },
        {
         "name": "end_year",
         "dtype": "object",
         "stats": {
          "unique_count": 3,
          "nan_count": 0,
          "categories": [
           {
            "name": "2030",
            "count": 3
           },
           {
            "name": "2025",
            "count": 1
           },
           {
            "name": "2017",
            "count": 1
           }
          ]
         }
        },
        {
         "name": "length",
         "dtype": "float64",
         "stats": {
          "unique_count": 5,
          "nan_count": 0,
          "min": "5.7",
          "max": "15.5",
          "histogram": [
           {
            "bin_start": 5.7,
            "bin_end": 6.680000000000001,
            "count": 1
           },
           {
            "bin_start": 6.680000000000001,
            "bin_end": 7.66,
            "count": 1
           },
           {
            "bin_start": 7.66,
            "bin_end": 8.64,
            "count": 2
           },
           {
            "bin_start": 8.64,
            "bin_end": 9.620000000000001,
            "count": 0
           },
           {
            "bin_start": 9.620000000000001,
            "bin_end": 10.600000000000001,
            "count": 0
           },
           {
            "bin_start": 10.600000000000001,
            "bin_end": 11.580000000000002,
            "count": 0
           },
           {
            "bin_start": 11.580000000000002,
            "bin_end": 12.56,
            "count": 0
           },
           {
            "bin_start": 12.56,
            "bin_end": 13.540000000000001,
            "count": 0
           },
           {
            "bin_start": 13.540000000000001,
            "bin_end": 14.52,
            "count": 0
           },
           {
            "bin_start": 14.52,
            "bin_end": 15.5,
            "count": 1
           }
          ]
         }
        },
        {
         "name": "tunnel_per",
         "dtype": "object",
         "stats": {
          "unique_count": 3,
          "nan_count": 0,
          "categories": [
           {
            "name": "100.00%",
            "count": 3
           },
           {
            "name": "87.72%",
            "count": 1
           },
           {
            "name": "57.00%",
            "count": 1
           }
          ]
         }
        },
        {
         "name": "tunnel",
         "dtype": "float64",
         "stats": {
          "unique_count": 5,
          "nan_count": 0,
          "min": "5.0",
          "max": "8.8",
          "histogram": [
           {
            "bin_start": 5,
            "bin_end": 5.38,
            "count": 1
           },
           {
            "bin_start": 5.38,
            "bin_end": 5.76,
            "count": 0
           },
           {
            "bin_start": 5.76,
            "bin_end": 6.140000000000001,
            "count": 0
           },
           {
            "bin_start": 6.140000000000001,
            "bin_end": 6.5200000000000005,
            "count": 0
           },
           {
            "bin_start": 6.5200000000000005,
            "bin_end": 6.9,
            "count": 0
           },
           {
            "bin_start": 6.9,
            "bin_end": 7.28,
            "count": 0
           },
           {
            "bin_start": 7.28,
            "bin_end": 7.66,
            "count": 1
           },
           {
            "bin_start": 7.66,
            "bin_end": 8.040000000000001,
            "count": 1
           },
           {
            "bin_start": 8.040000000000001,
            "bin_end": 8.42,
            "count": 0
           },
           {
            "bin_start": 8.42,
            "bin_end": 8.8,
            "count": 2
           }
          ]
         }
        },
        {
         "name": "stations",
         "dtype": "float64",
         "stats": {
          "unique_count": 3,
          "nan_count": 0,
          "min": "3.0",
          "max": "15.0",
          "histogram": [
           {
            "bin_start": 3,
            "bin_end": 4.2,
            "count": 1
           },
           {
            "bin_start": 4.2,
            "bin_end": 5.4,
            "count": 0
           },
           {
            "bin_start": 5.4,
            "bin_end": 6.6,
            "count": 3
           },
           {
            "bin_start": 6.6,
            "bin_end": 7.8,
            "count": 0
           },
           {
            "bin_start": 7.8,
            "bin_end": 9,
            "count": 0
           },
           {
            "bin_start": 9,
            "bin_end": 10.2,
            "count": 0
           },
           {
            "bin_start": 10.2,
            "bin_end": 11.4,
            "count": 0
           },
           {
            "bin_start": 11.4,
            "bin_end": 12.6,
            "count": 0
           },
           {
            "bin_start": 12.6,
            "bin_end": 13.799999999999999,
            "count": 0
           },
           {
            "bin_start": 13.799999999999999,
            "bin_end": 15,
            "count": 1
           }
          ]
         }
        },
        {
         "name": "cost",
         "dtype": "float64",
         "stats": {
          "unique_count": 5,
          "nan_count": 0,
          "min": "2830.0",
          "max": "8573.0",
          "histogram": [
           {
            "bin_start": 2830,
            "bin_end": 3404.3,
            "count": 2
           },
           {
            "bin_start": 3404.3,
            "bin_end": 3978.6,
            "count": 0
           },
           {
            "bin_start": 3978.6,
            "bin_end": 4552.9,
            "count": 0
           },
           {
            "bin_start": 4552.9,
            "bin_end": 5127.2,
            "count": 0
           },
           {
            "bin_start": 5127.2,
            "bin_end": 5701.5,
            "count": 2
           },
           {
            "bin_start": 5701.5,
            "bin_end": 6275.799999999999,
            "count": 0
           },
           {
            "bin_start": 6275.799999999999,
            "bin_end": 6850.099999999999,
            "count": 0
           },
           {
            "bin_start": 6850.099999999999,
            "bin_end": 7424.4,
            "count": 0
           },
           {
            "bin_start": 7424.4,
            "bin_end": 7998.7,
            "count": 0
           },
           {
            "bin_start": 7998.7,
            "bin_end": 8573,
            "count": 1
           }
          ]
         }
        },
        {
         "name": "_deepnote_index_column",
         "dtype": "int64"
        }
       ],
       "rows_top": [
        {
         "country": "CA",
         "city": "Vancouver",
         "line": "Broadway",
         "start_year": "2020",
         "end_year": "2025",
         "length": 5.7,
         "tunnel_per": "87.72%",
         "tunnel": 5,
         "stations": 6,
         "cost": 2830,
         "_deepnote_index_column": 0
        },
        {
         "country": "CA",
         "city": "Toronto",
         "line": "Vaughan",
         "start_year": "2009",
         "end_year": "2017",
         "length": 8.6,
         "tunnel_per": "100.00%",
         "tunnel": 8.6,
         "stations": 6,
         "cost": 3200,
         "_deepnote_index_column": 1
        },
        {
         "country": "CA",
         "city": "Toronto",
         "line": "Scarborough",
         "start_year": "2020",
         "end_year": "2030",
         "length": 7.8,
         "tunnel_per": "100.00%",
         "tunnel": 7.8,
         "stations": 3,
         "cost": 5500,
         "_deepnote_index_column": 2
        },
        {
         "country": "CA",
         "city": "Toronto",
         "line": "Ontario",
         "start_year": "2020",
         "end_year": "2030",
         "length": 15.5,
         "tunnel_per": "57.00%",
         "tunnel": 8.8,
         "stations": 15,
         "cost": 8573,
         "_deepnote_index_column": 3
        },
        {
         "country": "CA",
         "city": "Toronto",
         "line": "Yonge to Richmond Hill",
         "start_year": "2020",
         "end_year": "2030",
         "length": 7.4,
         "tunnel_per": "100.00%",
         "tunnel": 7.4,
         "stations": 6,
         "cost": 5600,
         "_deepnote_index_column": 4
        }
       ],
       "rows_bottom": null
      },
      "text/plain": "  country       city                    line start_year end_year  length  \\\n0      CA  Vancouver                Broadway       2020     2025     5.7   \n1      CA    Toronto                 Vaughan       2009     2017     8.6   \n2      CA    Toronto             Scarborough       2020     2030     7.8   \n3      CA    Toronto                 Ontario       2020     2030    15.5   \n4      CA    Toronto  Yonge to Richmond Hill       2020     2030     7.4   \n\n  tunnel_per  tunnel  stations    cost  \n0     87.72%     5.0       6.0  2830.0  \n1    100.00%     8.6       6.0  3200.0  \n2    100.00%     7.8       3.0  5500.0  \n3     57.00%     8.8      15.0  8573.0  \n4    100.00%     7.4       6.0  5600.0  ",
      "text/html": "<div>\n<style scoped>\n    .dataframe tbody tr th:only-of-type {\n        vertical-align: middle;\n    }\n\n    .dataframe tbody tr th {\n        vertical-align: top;\n    }\n\n    .dataframe thead th {\n        text-align: right;\n    }\n</style>\n<table border=\"1\" class=\"dataframe\">\n  <thead>\n    <tr style=\"text-align: right;\">\n      <th></th>\n      <th>country</th>\n      <th>city</th>\n      <th>line</th>\n      <th>start_year</th>\n      <th>end_year</th>\n      <th>length</th>\n      <th>tunnel_per</th>\n      <th>tunnel</th>\n      <th>stations</th>\n      <th>cost</th>\n    </tr>\n  </thead>\n  <tbody>\n    <tr>\n      <th>0</th>\n      <td>CA</td>\n      <td>Vancouver</td>\n      <td>Broadway</td>\n      <td>2020</td>\n      <td>2025</td>\n      <td>5.7</td>\n      <td>87.72%</td>\n      <td>5.0</td>\n      <td>6.0</td>\n      <td>2830.0</td>\n    </tr>\n    <tr>\n      <th>1</th>\n      <td>CA</td>\n      <td>Toronto</td>\n      <td>Vaughan</td>\n      <td>2009</td>\n      <td>2017</td>\n      <td>8.6</td>\n      <td>100.00%</td>\n      <td>8.6</td>\n      <td>6.0</td>\n      <td>3200.0</td>\n    </tr>\n    <tr>\n      <th>2</th>\n      <td>CA</td>\n      <td>Toronto</td>\n      <td>Scarborough</td>\n      <td>2020</td>\n      <td>2030</td>\n      <td>7.8</td>\n      <td>100.00%</td>\n      <td>7.8</td>\n      <td>3.0</td>\n      <td>5500.0</td>\n    </tr>\n    <tr>\n      <th>3</th>\n      <td>CA</td>\n      <td>Toronto</td>\n      <td>Ontario</td>\n      <td>2020</td>\n      <td>2030</td>\n      <td>15.5</td>\n      <td>57.00%</td>\n      <td>8.8</td>\n      <td>15.0</td>\n      <td>8573.0</td>\n    </tr>\n    <tr>\n      <th>4</th>\n      <td>CA</td>\n      <td>Toronto</td>\n      <td>Yonge to Richmond Hill</td>\n      <td>2020</td>\n      <td>2030</td>\n      <td>7.4</td>\n      <td>100.00%</td>\n      <td>7.4</td>\n      <td>6.0</td>\n      <td>5600.0</td>\n    </tr>\n  </tbody>\n</table>\n</div>"
     },
     "metadata": {}
    }
   ],
   "execution_count": 4
  },
  {
   "cell_type": "code",
   "source": "data.tunnel_per = data.tunnel_per.apply(lambda x: float(str(x).replace(\"%\", \"\")))",
   "metadata": {
    "tags": [],
    "cell_id": "00006-3afc438c-c532-468c-9242-2421a80e49b1",
    "deepnote_to_be_reexecuted": false,
    "source_hash": "aed5aa06",
    "execution_start": 1632714311513,
    "execution_millis": 2,
    "deepnote_cell_type": "code"
   },
   "outputs": [],
   "execution_count": 5
  },
  {
   "cell_type": "markdown",
   "source": "# Analysis",
   "metadata": {
    "tags": [],
    "is_collapsed": false,
    "cell_id": "00006-cbaa676e-d9fe-4f16-96c1-50a35957809a",
    "deepnote_cell_type": "text-cell-h1"
   }
  },
  {
   "cell_type": "markdown",
   "source": "## Length",
   "metadata": {
    "tags": [],
    "is_collapsed": false,
    "cell_id": "00007-e7caa892-70ad-44ed-adc1-bfb0efc72e7f",
    "deepnote_cell_type": "text-cell-h2"
   }
  },
  {
   "cell_type": "code",
   "source": "data.groupby('city').mean()[['length']].sort_values('length').head(10).plot.barh()",
   "metadata": {
    "tags": [],
    "cell_id": "00007-c257e253-d039-45af-8c20-e92af22c16c0",
    "deepnote_to_be_reexecuted": false,
    "source_hash": "99a702e2",
    "execution_start": 1632714311562,
    "execution_millis": 273,
    "deepnote_cell_type": "code"
   },
   "outputs": [
    {
     "output_type": "execute_result",
     "execution_count": 6,
     "data": {
      "text/plain": "<AxesSubplot:ylabel='city'>"
     },
     "metadata": {}
    },
    {
     "data": {
      "text/plain": "<Figure size 432x288 with 1 Axes>",
      "image/png": "[encoded data removed]"
     },
     "metadata": {
      "needs_background": "light",
      "image/png": {
       "width": 458,
       "height": 248
      }
     },
     "output_type": "display_data"
    }
   ],
   "execution_count": 6
  },
  {
   "cell_type": "markdown",
   "source": "## Tunnel",
   "metadata": {
    "tags": [],
    "is_collapsed": false,
    "cell_id": "00009-180b0cb2-73d0-4a8d-a0e2-00f66175191d",
    "deepnote_cell_type": "text-cell-h2"
   }
  },
  {
   "cell_type": "code",
   "source": "data.groupby('country').sum()[['cost']].sort_values('cost').head(10).plot.barh()",
   "metadata": {
    "tags": [],
    "cell_id": "00010-d21831d6-b876-42ec-9783-7fe0b1359a4a",
    "deepnote_to_be_reexecuted": false,
    "source_hash": "10b191b0",
    "execution_start": 1632714311860,
    "execution_millis": 254,
    "deepnote_cell_type": "code"
   },
   "outputs": [
    {
     "output_type": "execute_result",
     "execution_count": 7,
     "data": {
      "text/plain": "<AxesSubplot:ylabel='country'>"
     },
     "metadata": {}
    },
    {
     "data": {
      "text/plain": "<Figure size 432x288 with 1 Axes>",
      "image/png": "[encoded data removed]"
     },
     "metadata": {
      "needs_background": "light",
      "image/png": {
       "width": 384,
       "height": 248
      }
     },
     "output_type": "display_data"
    }
   ],
   "execution_count": 7
  },
  {
   "cell_type": "markdown",
   "source": "# Conclusion",
   "metadata": {
    "tags": [],
    "cell_id": "00002-93a4fd87-fb8b-4fef-b5c5-ba2d12e56b6f",
    "deepnote_cell_type": "markdown"
   }
  },
  {
   "cell_type": "markdown",
   "source": "Through our analysis, we can see that ......",
   "metadata": {
    "tags": [],
    "cell_id": "00015-87139021-c794-47e4-be67-1a5a0275ded9",
    "deepnote_cell_type": "markdown"
   }
  },
  {
   "cell_type": "markdown",
   "source": "<a style='text-decoration:none;line-height:16px;display:flex;color:#5B5B62;padding:10px;justify-content:end;' href='https://deepnote.com?utm_source=created-in-deepnote-cell&projectId=7cf431b9-bc7d-4100-893b-e7b4884943a6' target=\"_blank\">\n<img alt='Created in deepnote.com' style='display:inline;max-height:16px;margin:0px;margin-right:7.5px;' src='data:image/svg+xml;base64,PD94bWwgdmVyc2lvbj0iMS4wIiBlbmNvZGluZz0iVVRGLTgiPz4KPHN2ZyB3aWR0aD0iODBweCIgaGVpZ2h0PSI4MHB4IiB2aWV3Qm94PSIwIDAgODAgODAiIHZlcnNpb249IjEuMSIgeG1sbnM9Imh0dHA6Ly93d3cudzMub3JnLzIwMDAvc3ZnIiB4bWxuczp4bGluaz0iaHR0cDovL3d3dy53My5vcmcvMTk5OS94bGluayI+CiAgICA8IS0tIEdlbmVyYXRvcjogU2tldGNoIDU0LjEgKDc2NDkwKSAtIGh0dHBzOi8vc2tldGNoYXBwLmNvbSAtLT4KICAgIDx0aXRsZT5Hcm91cCAzPC90aXRsZT4KICAgIDxkZXNjPkNyZWF0ZWQgd2l0aCBTa2V0Y2guPC9kZXNjPgogICAgPGcgaWQ9IkxhbmRpbmciIHN0cm9rZT0ibm9uZSIgc3Ryb2tlLXdpZHRoPSIxIiBmaWxsPSJub25lIiBmaWxsLXJ1bGU9ImV2ZW5vZGQiPgogICAgICAgIDxnIGlkPSJBcnRib2FyZCIgdHJhbnNmb3JtPSJ0cmFuc2xhdGUoLTEyMzUuMDAwMDAwLCAtNzkuMDAwMDAwKSI+CiAgICAgICAgICAgIDxnIGlkPSJHcm91cC0zIiB0cmFuc2Zvcm09InRyYW5zbGF0ZSgxMjM1LjAwMDAwMCwgNzkuMDAwMDAwKSI+CiAgICAgICAgICAgICAgICA8cG9seWdvbiBpZD0iUGF0aC0yMCIgZmlsbD0iIzAyNjVCNCIgcG9pbnRzPSIyLjM3NjIzNzYyIDgwIDM4LjA0NzY2NjcgODAgNTcuODIxNzgyMiA3My44MDU3NTkyIDU3LjgyMTc4MjIgMzIuNzU5MjczOSAzOS4xNDAyMjc4IDMxLjY4MzE2ODMiPjwvcG9seWdvbj4KICAgICAgICAgICAgICAgIDxwYXRoIGQ9Ik0zNS4wMDc3MTgsODAgQzQyLjkwNjIwMDcsNzYuNDU0OTM1OCA0Ny41NjQ5MTY3LDcxLjU0MjI2NzEgNDguOTgzODY2LDY1LjI2MTk5MzkgQzUxLjExMjI4OTksNTUuODQxNTg0MiA0MS42NzcxNzk1LDQ5LjIxMjIyODQgMjUuNjIzOTg0Niw0OS4yMTIyMjg0IEMyNS40ODQ5Mjg5LDQ5LjEyNjg0NDggMjkuODI2MTI5Niw0My4yODM4MjQ4IDM4LjY0NzU4NjksMzEuNjgzMTY4MyBMNzIuODcxMjg3MSwzMi41NTQ0MjUgTDY1LjI4MDk3Myw2Ny42NzYzNDIxIEw1MS4xMTIyODk5LDc3LjM3NjE0NCBMMzUuMDA3NzE4LDgwIFoiIGlkPSJQYXRoLTIyIiBmaWxsPSIjMDAyODY4Ij48L3BhdGg+CiAgICAgICAgICAgICAgICA8cGF0aCBkPSJNMCwzNy43MzA0NDA1IEwyNy4xMTQ1MzcsMC4yNTcxMTE0MzYgQzYyLjM3MTUxMjMsLTEuOTkwNzE3MDEgODAsMTAuNTAwMzkyNyA4MCwzNy43MzA0NDA1IEM4MCw2NC45NjA0ODgyIDY0Ljc3NjUwMzgsNzkuMDUwMzQxNCAzNC4zMjk1MTEzLDgwIEM0Ny4wNTUzNDg5LDc3LjU2NzA4MDggNTMuNDE4MjY3Nyw3MC4zMTM2MTAzIDUzLjQxODI2NzcsNTguMjM5NTg4NSBDNTMuNDE4MjY3Nyw0MC4xMjg1NTU3IDM2LjMwMzk1NDQsMzcuNzMwNDQwNSAyNS4yMjc0MTcsMzcuNzMwNDQwNSBDMTcuODQzMDU4NiwzNy43MzA0NDA1IDkuNDMzOTE5NjYsMzcuNzMwNDQwNSAwLDM3LjczMDQ0MDUgWiIgaWQ9IlBhdGgtMTkiIGZpbGw9IiMzNzkzRUYiPjwvcGF0aD4KICAgICAgICAgICAgPC9nPgogICAgICAgIDwvZz4KICAgIDwvZz4KPC9zdmc+' > </img>\nCreated in <span style='font-weight:600;margin-left:4px;'>Deepnote</span></a>",
   "metadata": {
    "tags": [],
    "created_in_deepnote_cell": true,
    "deepnote_cell_type": "markdown"
   }
  }
 ],
 "nbformat": 4,
 "nbformat_minor": 2,
 "metadata": {
  "orig_nbformat": 2,
  "deepnote": {
   "is_reactive": false
  },
  "deepnote_notebook_id": "0a3de05c-93f2-42e5-8443-ce211ba49096",
  "deepnote_execution_queue": []
 }
}